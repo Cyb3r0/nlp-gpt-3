{
  "nbformat": 4,
  "nbformat_minor": 0,
  "metadata": {
    "colab": {
      "provenance": [],
      "collapsed_sections": [],
      "authorship_tag": "ABX9TyNBO91lpIgs8SNiHL1PtRyP"
    },
    "kernelspec": {
      "name": "python3",
      "display_name": "Python 3"
    },
    "language_info": {
      "name": "python"
    }
  },
  "cells": [
    {
      "cell_type": "markdown",
      "source": [
        "Resume analysis with GPT-3\n",
        "\n",
        "\n",
        "GPT models have demonstrated their power to give impressive answers to questions on information publicly available on the web, in books, and in all the vast sources of information used to train these models. However, some use cases require us to fine-tune the models to get the best results. In this notebook, I'll explore how to use GPT-3's Question And Answers capabilities in a real-world scenario, analyzing resumes.\n",
        "\n"
      ],
      "metadata": {
        "id": "ZuQlpQXkVJv6"
      }
    },
    {
      "cell_type": "code",
      "source": [
        "!pip install openai"
      ],
      "metadata": {
        "id": "CiaeoWHJWAEA"
      },
      "execution_count": null,
      "outputs": []
    },
    {
      "cell_type": "code",
      "source": [
        "import pandas as pd\n",
        "import openai\n",
        "import numpy as np\n",
        "import pickle\n",
        "\n",
        "COMPLETIONS_MODEL = \"text-babbage-001\""
      ],
      "metadata": {
        "id": "37JGFxtbYkh9"
      },
      "execution_count": 4,
      "outputs": []
    },
    {
      "cell_type": "code",
      "source": [
        "openai.api_key = input('Enter your OpenAi key: ')"
      ],
      "metadata": {
        "id": "YwxOFSq-ZhFu"
      },
      "execution_count": null,
      "outputs": []
    },
    {
      "cell_type": "code",
      "source": [
        "context = \"\"\"\n",
        "Candidate\n",
        "Juan Lopez is a Software engineer focused on web development with experience in banking apps, booking systems, e-commerce, mobile apps, and real-time systems like video call and chat applications. Proficient in: Javascript, NodeJS, CSS3, HTML, React Native, React, Redux, Git, WebRTC, GraphQLElectron, SQL, PostgreSQL\n",
        "\n",
        "Career History: \n",
        "\n",
        "November 2019 — Current\n",
        "Senior Software Engineer maintaining and building new features for an Omni channel communication platform (Backend and FrontEnd)\n",
        "\n",
        "Jan 2017 — Sept 2019\n",
        "Front End Engineer\n",
        "I worked as a Web UI Developer maintaining and building new features for their booking system and web app using HTML, CSS, ReactJS, Redux, and GraphQL.\n",
        "---\n",
        "\n",
        "Candidate\n",
        "\n",
        "Carlos Perez has 8 years of experience implementing E-commerce sites with SAP commerce platform and JAVA EE projects. Proficient in: Java EE, Spring Framework, Scrum, DDD, Enterprise Integration Patterns, Solr, Graphql, MongoDB, MySQL.\n",
        "\n",
        "Career History: \n",
        "\n",
        "Feb 2022 — Current \n",
        "Integrate gateway (Checkout.com) with Stripe, ApplePay, Paypal, and GooglePay to complete the checkout process. Leader of the pre-order process.\n",
        "\n",
        "August 2020 — Feb 2022 \n",
        "Leader of the ERP asynchronous integration of Pricing, ATS (Stock Availability), order details.\n",
        "---\n",
        "\n",
        "Candidate\n",
        "Will Martinez is a FrontEnd developer since 2016, working with Javascript Projects; I have a solid understanding of frameworks to build web and hybrid applications. I'm obsessed with code readability and efficient implementations. Proficient In Javascript, React Js, React Native, Angular, Ionic, Typescript, Firebase, Adobe XD, Figma.\n",
        "\n",
        "Career History:\n",
        "\n",
        "December 2019 — Current\n",
        "\n",
        "As a senior full-stack developer, I had different responsibilities: FrontEnd and Back-end tasks, Code Reviews, Continuous enhancement, and Creation and Integration of REST APIs.\n",
        "\n",
        "Jun. 2017 — Nov.2019\n",
        "Junior FrontEnd Developer; I worked on web applications based on Javascript, Typescript, Angular, and ReactJs.\n",
        "\"\"\"\n",
        "\n",
        "question = \"Which Candidate has the most experience in payment platforms?\"\n",
        "\n",
        "prompt =  context + \"\\nQ: \" + question + \"\\n\" + \"A: \"\n"
      ],
      "metadata": {
        "id": "BCgsgZyxWNcX"
      },
      "execution_count": 6,
      "outputs": []
    },
    {
      "cell_type": "code",
      "source": [
        "print(prompt)"
      ],
      "metadata": {
        "colab": {
          "base_uri": "https://localhost:8080/"
        },
        "id": "Z_2TLTobZHP0",
        "outputId": "8a936581-c657-4475-e3d0-99f03aeeb837"
      },
      "execution_count": 7,
      "outputs": [
        {
          "output_type": "stream",
          "name": "stdout",
          "text": [
            "\n",
            "Candidate\n",
            "Juan Lopez is a Software engineer focused on web development with experience in banking apps, booking systems, e-commerce, mobile apps, and real-time systems like video call and chat applications. Proficient in: Javascript, NodeJS, CSS3, HTML, React Native, React, Redux, Git, WebRTC, GraphQLElectron, SQL, PostgreSQL\n",
            "\n",
            "Career History: \n",
            "\n",
            "November 2019 — Current\n",
            "Senior Software Engineer maintaining and building new features for an Omni channel communication platform (Backend and FrontEnd)\n",
            "\n",
            "Jan 2017 — Sept 2019\n",
            "Front End Engineer\n",
            "I worked as a Web UI Developer maintaining and building new features for their booking system and web app using HTML, CSS, ReactJS, Redux, and GraphQL.\n",
            "---\n",
            "\n",
            "Candidate\n",
            "\n",
            "Carlos Perez has 8 years of experience implementing E-commerce sites with SAP commerce platform and JAVA EE projects. Proficient in: Java EE, Spring Framework, Scrum, DDD, Enterprise Integration Patterns, Solr, Graphql, MongoDB, MySQL.\n",
            "\n",
            "Career History: \n",
            "\n",
            "Feb 2022 — Current \n",
            "Integrate gateway (Checkout.com) with Stripe, ApplePay, Paypal, and GooglePay to complete the checkout process. Leader of the pre-order process.\n",
            "\n",
            "August 2020 — Feb 2022 \n",
            "Leader of the ERP asynchronous integration of Pricing, ATS (Stock Availability), order details.\n",
            "---\n",
            "\n",
            "Candidate\n",
            "Will Martinez is a FrontEnd developer since 2016, working with Javascript Projects; I have a solid understanding of frameworks to build web and hybrid applications. I'm obsessed with code readability and efficient implementations. Proficient In Javascript, React Js, React Native, Angular, Ionic, Typescript, Firebase, Adobe XD, Figma.\n",
            "\n",
            "Career History:\n",
            "\n",
            "December 2019 — Current\n",
            "\n",
            "As a senior full-stack developer, I had different responsibilities: FrontEnd and Back-end tasks, Code Reviews, Continuous enhancement, and Creation and Integration of REST APIs.\n",
            "\n",
            "Jun. 2017 — Nov.2019\n",
            "Junior FrontEnd Developer; I worked on web applications based on Javascript, Typescript, Angular, and ReactJs.\n",
            "\n",
            "Q: Which Candidate has the most experience in payment platforms?\n",
            "A: \n"
          ]
        }
      ]
    },
    {
      "cell_type": "code",
      "source": [
        "openai.Completion.create(\n",
        "    prompt=prompt,\n",
        "    temperature=0,\n",
        "    max_tokens=50,\n",
        "    top_p=1,\n",
        "    frequency_penalty=0,\n",
        "    presence_penalty=0,\n",
        "    model=COMPLETIONS_MODEL\n",
        ")[\"choices\"][0][\"text\"].strip(\" \\n\")"
      ],
      "metadata": {
        "colab": {
          "base_uri": "https://localhost:8080/",
          "height": 35
        },
        "id": "ZNCsBzVXWu9h",
        "outputId": "55fa25c9-e30f-4ec1-f6ff-d256632896b0"
      },
      "execution_count": 8,
      "outputs": [
        {
          "output_type": "execute_result",
          "data": {
            "text/plain": [
              "'Carlos Perez has the most experience in payment platforms.'"
            ],
            "application/vnd.google.colaboratory.intrinsic+json": {
              "type": "string"
            }
          },
          "metadata": {},
          "execution_count": 8
        }
      ]
    },
    {
      "cell_type": "markdown",
      "source": [
        "Here is where you can start tasting the power of GPT-3 for question-answering. Carlos Perez's resume has no literal indications of experience in payment applications; however, GPT-3 inferred that probably based on his career history information: \"Integrate gateway (Checkout.com) with Stripe, ApplePay, Paypal and GooglePay…\". I assume GPT-3 knows that Stripe, ApplePlay, and Paypal are payment gateways.\n",
        "\n",
        "In the previous test, I used the model \"text-baggage-001\", which is cheap and not very powerful, and provided the model with only three resumes. Despite the configuration and the data, we got decent results. We should leverage embeddings and fine-tune the model with thousands of samples for a more robust solution.\n"
      ],
      "metadata": {
        "id": "AvUZ-XotbaGN"
      }
    },
    {
      "cell_type": "code",
      "source": [],
      "metadata": {
        "id": "PAMF9YW_ZeNM"
      },
      "execution_count": null,
      "outputs": []
    }
  ]
}